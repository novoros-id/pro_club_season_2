{
  "nbformat": 4,
  "nbformat_minor": 0,
  "metadata": {
    "colab": {
      "provenance": []
    },
    "kernelspec": {
      "name": "python3",
      "display_name": "Python 3"
    },
    "language_info": {
      "name": "python"
    }
  },
  "cells": [
    {
      "cell_type": "markdown",
      "source": [],
      "metadata": {
        "id": "l_7cQ4Oo6rgM"
      }
    },
    {
      "cell_type": "markdown",
      "source": [
        "Строка | Что подставить\n",
        "REPO_URL | ссылку на ваш GitHub репозиторий\n",
        "\"you@example.com\" | GitHub-почту\n",
        "\"Your Name\" | имя на GitHub\n",
        "main.py | если другая точка входа\n",
        "dev | нужную ветку"
      ],
      "metadata": {
        "id": "_v7rSzvn6tip"
      }
    },
    {
      "cell_type": "code",
      "execution_count": null,
      "metadata": {
        "id": "uDo54vbk6OPE"
      },
      "outputs": [],
      "source": [
        "# 👋 1. Настройка (ввести токен — секретно!)\n",
        "import os\n",
        "\n",
        "# ЛУЧШЕ вводить токен вручную, чем хранить в коде\n",
        "GIT_TOKEN = input(\"🔐 Вставь свой GitHub Token: \")\n",
        "REPO_URL = \"https://github.com/username/project.git\"  # 👈 Укажи свой репозиторий\n",
        "BRANCH = \"dev\"  # 👈 Укажи свою ветку\n",
        "\n",
        "# Парсим имя репозитория\n",
        "repo_name = REPO_URL.split(\"/\")[-1].replace(\".git\", \"\")\n",
        "print(f\"📦 Будем работать с репозиторием: {repo_name}\")\n"
      ]
    },
    {
      "cell_type": "code",
      "source": [
        "# 🚀 2. Клонируем репозиторий и переходим в папку\n",
        "if not os.path.exists(repo_name):\n",
        "    !git clone {REPO_URL}\n",
        "%cd {repo_name}\n",
        "\n",
        "# 🔄 3. Переключаемся на ветку\n",
        "!git checkout -B {BRANCH}\n"
      ],
      "metadata": {
        "id": "19POFgr76X7Z"
      },
      "execution_count": null,
      "outputs": []
    },
    {
      "cell_type": "code",
      "source": [
        "# ✅ 4. Установка зависимостей, если нужно\n",
        "if os.path.exists(\"requirements.txt\"):\n",
        "    !pip install -r requirements.txt\n"
      ],
      "metadata": {
        "id": "lWYFDWwj6ay7"
      },
      "execution_count": null,
      "outputs": []
    },
    {
      "cell_type": "code",
      "source": [
        "# 🛠 5. Список файлов проекта\n",
        "from pathlib import Path\n",
        "\n",
        "py_files = list(Path(\".\").rglob(\"*.py\"))\n",
        "print(\"🔍 Файлы для редактирования:\")\n",
        "for f in py_files:\n",
        "    print(\" -\", f)\n"
      ],
      "metadata": {
        "id": "_Ec9v8KO6ds4"
      },
      "execution_count": null,
      "outputs": []
    },
    {
      "cell_type": "code",
      "source": [
        "# ▶️ 6. Пример: запуск основного скрипта\n",
        "!python main.py\n"
      ],
      "metadata": {
        "id": "AUaAuMck6go5"
      },
      "execution_count": null,
      "outputs": []
    },
    {
      "cell_type": "code",
      "source": [
        "# 📤 7. Git push изменений\n",
        "!git config --global user.email \"you@example.com\"\n",
        "!git config --global user.name \"Your Name\"\n",
        "\n",
        "!git add .\n",
        "!git commit -m \"🚀 Обновление из Colab\"\n",
        "!git push https://{GIT_TOKEN}@github.com/username/project.git {BRANCH}\n"
      ],
      "metadata": {
        "id": "vd3I7UXf6kdK"
      },
      "execution_count": null,
      "outputs": []
    },
    {
      "cell_type": "code",
      "source": [
        "# 📤 7. Git получить изменения\n",
        "!git pull\n"
      ],
      "metadata": {
        "id": "ab7NeRTB6nnH"
      },
      "execution_count": null,
      "outputs": []
    }
  ]
}